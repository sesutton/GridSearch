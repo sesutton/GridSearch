{
 "cells": [
  {
   "cell_type": "markdown",
   "metadata": {
    "collapsed": true
   },
   "source": [
    "Collab Stuff"
   ]
  },
  {
   "cell_type": "code",
   "execution_count": null,
   "metadata": {
    "collapsed": false,
    "scrolled": true
   },
   "outputs": [],
   "source": [
    "!pip install -U hbp_neuromorphic_platform"
   ]
  },
  {
   "cell_type": "code",
   "execution_count": null,
   "metadata": {
    "collapsed": true
   },
   "outputs": [],
   "source": [
    "username = ''\n",
    "password = ''"
   ]
  },
  {
   "cell_type": "code",
   "execution_count": null,
   "metadata": {
    "collapsed": false
   },
   "outputs": [],
   "source": [
    "import nmpi\n",
    "client = nmpi.Client(username, password)\n",
    "print(client.my_collabs().keys())"
   ]
  },
  {
   "cell_type": "code",
   "execution_count": null,
   "metadata": {
    "collapsed": false
   },
   "outputs": [],
   "source": [
    "aistate_collab_id = client.my_collabs()['UH AI state']['id']"
   ]
  },
  {
   "cell_type": "markdown",
   "metadata": {},
   "source": [
    "Pooled Version"
   ]
  },
  {
   "cell_type": "code",
   "execution_count": null,
   "metadata": {
    "collapsed": true
   },
   "outputs": [],
   "source": [
    "def pooled_grid_search(command):  \n",
    "    job_path = client.submit_job(source=\"https://github.com/sesutton/GridSearch\",\n",
    "                              platform=nmpi.SPINNAKER,\n",
    "                              collab_id=aistate_collab_id,\n",
    "                              command=command) "
   ]
  },
  {
   "cell_type": "markdown",
   "metadata": {},
   "source": [
    "First grid search of conductances"
   ]
  },
  {
   "cell_type": "code",
   "execution_count": null,
   "metadata": {
    "collapsed": false
   },
   "outputs": [],
   "source": [
    "commands = []\n",
    "for Gexc in range(1,101, 4):\n",
    "    for Ginh in range(1,101, 4):\n",
    "        pconn = 0.02\n",
    "        n = 1500\n",
    "        tstop = 60 * 1000\n",
    "        commands.append(\"GridSearch.py {system} %s %s %s %s %s \" % (Gexc, Ginh, pconn, n, tstop))\n",
    "\n",
    "print len(commands)"
   ]
  },
  {
   "cell_type": "code",
   "execution_count": null,
   "metadata": {
    "collapsed": false
   },
   "outputs": [],
   "source": [
    "import multiprocessing\n",
    "p = multiprocessing.Pool()\n",
    "p.map(pooled_grid_search, commands)"
   ]
  },
  {
   "cell_type": "markdown",
   "metadata": {},
   "source": [
    "Re-run Errors"
   ]
  },
  {
   "cell_type": "code",
   "execution_count": null,
   "metadata": {
    "collapsed": true
   },
   "outputs": [],
   "source": [
    "def pooled_error_check(job_id):  \n",
    "    ret = client.get_job(job_id, with_log=True)\n",
    "    if ret['status'] == 'error':\n",
    "        return job_id"
   ]
  },
  {
   "cell_type": "code",
   "execution_count": null,
   "metadata": {
    "collapsed": false
   },
   "outputs": [],
   "source": [
    "first = 0\n",
    "last = 0\n",
    "ids = range(first, last + 1)\n",
    "\n",
    "import multiprocessing\n",
    "p = multiprocessing.Pool()\n",
    "errors = p.map(pooled_error_check, ids)\n"
   ]
  },
  {
   "cell_type": "code",
   "execution_count": null,
   "metadata": {
    "collapsed": false
   },
   "outputs": [],
   "source": [
    "commands = []\n",
    "for error in errors:\n",
    "    if(type(error) is not int):\n",
    "        continue\n",
    "    ret = client.get_job(error, with_log=True)\n",
    "    commands.append(ret['command'])\n",
    "\n",
    "import multiprocessing\n",
    "p = multiprocessing.Pool()\n",
    "p.map(pooled_grid_search, commands)"
   ]
  },
  {
   "cell_type": "markdown",
   "metadata": {},
   "source": [
    "Pooled Download Results"
   ]
  },
  {
   "cell_type": "code",
   "execution_count": null,
   "metadata": {
    "collapsed": false
   },
   "outputs": [],
   "source": [
    "def pooled_job_download(job_id):\n",
    "    try:\n",
    "        ret = client.get_job(job_id, with_log=True)\n",
    "    except Exception as e:\n",
    "        return str(job_id) + \" \" + str(e)\n",
    "    status = ret['status']\n",
    "    if status == 'error':\n",
    "        return str(job_id) + \" error\"\n",
    "    \n",
    "    command = ret['command']\n",
    "    command = command.split(' ')\n",
    "    name = \"Gexc %s Ginh %s pconn %s n %s tstop %s\" % (str(command[2]), str(command[3]), str(command[4]), str(command[5]), str(command[6]))\n",
    "    results_dir = os.getcwd() + '/results/'\n",
    "    sim_dir = results_dir + \"/\" + name + \"/\"\n",
    "    if not os.path.exists(sim_dir):\n",
    "            os.makedirs(sim_dir)\n",
    " \n",
    "    filenames = client.download_data(ret, local_dir=sim_dir)\n",
    "    return str(job_id) + \" success\""
   ]
  },
  {
   "cell_type": "code",
   "execution_count": null,
   "metadata": {
    "collapsed": true
   },
   "outputs": [],
   "source": [
    "import os\n",
    "\n",
    "results_dir = os.getcwd() + '/results/'\n",
    "if not os.path.exists(results_dir):\n",
    "    os.makedirs(results_dir)\n"
   ]
  },
  {
   "cell_type": "code",
   "execution_count": null,
   "metadata": {
    "collapsed": false
   },
   "outputs": [],
   "source": [
    "first = 0\n",
    "last = 0\n",
    "ids = range(first, last + 1)\n",
    "\n",
    "import multiprocessing\n",
    "p = multiprocessing.Pool()\n",
    "p.map(pooled_job_download, ids)"
   ]
  },
  {
   "cell_type": "markdown",
   "metadata": {},
   "source": [
    "Remove Jobs from Collab"
   ]
  },
  {
   "cell_type": "code",
   "execution_count": null,
   "metadata": {
    "collapsed": true
   },
   "outputs": [],
   "source": [
    "def remove_comp_job(job_id):\n",
    "    try:\n",
    "        client.remove_completed_job(job_id)\n",
    "        print \"success %s\" % (job_id)\n",
    "    except:\n",
    "        failed.append(job_id)\n",
    "        print \"fail %s\" % (job_id)\n",
    "\n",
    "def remove_queued_job(job_id):\n",
    "    try:\n",
    "        client.remove_queued_job(job_id)\n",
    "        print \"success %s\" % (job_id)\n",
    "    except:\n",
    "        print \"fail %s\" % (job_id)\n",
    "      "
   ]
  },
  {
   "cell_type": "code",
   "execution_count": null,
   "metadata": {
    "collapsed": false
   },
   "outputs": [],
   "source": [
    "failed = []\n",
    "first = 0\n",
    "last = 0\n",
    "\n",
    "import multiprocessing\n",
    "p = multiprocessing.Pool()\n",
    "p.map(remove_comp_job, range(first, last + 1))\n",
    "p.map(remove_queued_job, range(first, last + 1))"
   ]
  }
 ],
 "metadata": {
  "kernelspec": {
   "display_name": "Python 2",
   "language": "python",
   "name": "python2"
  },
  "language_info": {
   "codemirror_mode": {
    "name": "ipython",
    "version": 2
   },
   "file_extension": ".py",
   "mimetype": "text/x-python",
   "name": "python",
   "nbconvert_exporter": "python",
   "pygments_lexer": "ipython2",
   "version": "2.7.13"
  }
 },
 "nbformat": 4,
 "nbformat_minor": 2
}
