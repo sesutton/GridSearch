{
 "cells": [
  {
   "cell_type": "code",
   "execution_count": null,
   "metadata": {
    "collapsed": false
   },
   "outputs": [],
   "source": [
    "import os\n",
    "from SpikeTrainUtils import SpikeTrainStats, SpikeTrainPlotter\n",
    "from IPython.display import HTML, display\n",
    "import matplotlib.pyplot as plt \n",
    "import numpy as np\n",
    "from matplotlib import cm"
   ]
  },
  {
   "cell_type": "code",
   "execution_count": null,
   "metadata": {
    "collapsed": false
   },
   "outputs": [],
   "source": [
    "d = './results/'\n",
    "dirs = [os.path.join(d, o) for o in os.listdir(d) if os.path.isdir(os.path.join(d,o))]\n",
    "\n",
    "sorted_dirs = []\n",
    "for directory in dirs:\n",
    "    split_d = directory.split(' ')\n",
    "    sorted_dirs.append([split_d[1], split_d[3], directory])\n",
    "\n",
    "sorted_dirs = sorted(sorted_dirs, key = lambda x: (int(x[0]), int(x[1])))"
   ]
  },
  {
   "cell_type": "code",
   "execution_count": null,
   "metadata": {
    "collapsed": false
   },
   "outputs": [],
   "source": [
    "sts = SpikeTrainStats()\n",
    "\n",
    "results = []\n",
    "for directory in sorted_dirs:\n",
    "\n",
    "    job_dir = os.listdir(directory[2])[-1]\n",
    "    sub_directory = os.path.join(directory[2], job_dir)\n",
    "\n",
    "    files = [os.path.join(sub_directory, o) for o in os.listdir(sub_directory) if os.path.isfile(os.path.join(sub_directory,o))]\n",
    "    config_res = []\n",
    "    for f in files:\n",
    "        fname,ext = os.path.splitext(f)\n",
    "        if ext != '.csv':\n",
    "            continue\n",
    "        fr, cvisi, min_time, max_time = sts.calculate(f)\n",
    "        config_res.append({'population': f.split(' ')[10], 'firing_rate':fr, 'cv_isi':cvisi, 'min_time': min_time, 'max_time':max_time})\n",
    "    results.append([directory,config_res])\n",
    "    print results[-1]"
   ]
  },
  {
   "cell_type": "code",
   "execution_count": null,
   "metadata": {
    "collapsed": false
   },
   "outputs": [],
   "source": [
    "pop_types = ['exc', 'inh', 'ext']\n",
    "pop_labels = {'exc':'Excitatory', 'inh':'Inhibitory', 'ext':'Injection'}\n",
    "\n",
    "population_data = {}\n",
    "for pop_type in pop_types:\n",
    "    population_data[pop_type] = []\n",
    "\n",
    "for pop_type in pop_types:\n",
    "    slim_data = []\n",
    "    for row in results:     \n",
    "        for i in range(len(row[1])):\n",
    "            if row[1][i]['population'] != pop_type:\n",
    "                continue\n",
    "            slim_data.append([row[0][0], row[0][1], row[1][i]['firing_rate'], row[1][i]['cv_isi'], row[1][i]['min_time'], row[1][i]['max_time']])\n",
    "    print (pop_labels[pop_type] + \" Population\")\n",
    "    table_head = '<table>'\n",
    "    table_header = '<tr><th>G Exc</th><th>G Inh</th><th>Firing Rate</th><th>CV ISI</th><th>Min Time</th><th>Max Time</th></tr>'\n",
    "    table_contents = '<tr>{}</tr>'.format('</tr><tr>'.join('<td>{}</td>'.format('</td><td>'.join(str(_) for _ in row)) for row in slim_data))\n",
    "    table_tail = '</table>'\n",
    "    html = table_head + table_header + table_contents + table_tail\n",
    "    display(HTML(html))\n",
    "    \n",
    "    \n",
    "    pop_array = population_data[pop_type]\n",
    "    pop_array.append(slim_data)\n",
    "    population_data[pop_type] = pop_array"
   ]
  },
  {
   "cell_type": "code",
   "execution_count": null,
   "metadata": {
    "collapsed": false,
    "scrolled": true
   },
   "outputs": [],
   "source": [
    "population_data['exc']"
   ]
  },
  {
   "cell_type": "code",
   "execution_count": null,
   "metadata": {
    "collapsed": false
   },
   "outputs": [],
   "source": [
    "%matplotlib inline\n",
    "\n",
    "def plot_poulation_heatmap(pop_data, x_ind, y_ind, data_ind, cmap=cm.RdBu, title=None, savefig=False):\n",
    "    \n",
    "\n",
    "    data = np.array(pop_data[0])\n",
    "    x = data[:,x_ind].astype(int)\n",
    "    y = data[:, y_ind].astype(int)\n",
    "    z = data[:, data_ind].astype(float)\n",
    "    \n",
    "    x=np.unique(x)\n",
    "    y=np.unique(y)\n",
    "    X,Y = np.meshgrid(x,y)\n",
    "    Z = z.reshape(len(y), len(x))\n",
    "    \n",
    "    plt.pcolormesh(X,Y,Z, cmap=cmap)\n",
    "    plt.colorbar()\n",
    "    if title != None:\n",
    "        plt.title(title)\n",
    "    plt.xlabel('GExc')\n",
    "    plt.ylabel('GInh')\n",
    "    plt.show()\n",
    "    \n",
    "    if saveFig:\n",
    "        plt.savefig(title + '.png',)\n"
   ]
  },
  {
   "cell_type": "code",
   "execution_count": null,
   "metadata": {
    "collapsed": false
   },
   "outputs": [],
   "source": [
    "plot_poulation_heatmap(population_data['exc'], 0, 1, 3, title=\"CV ISI\", savefig=True)"
   ]
  },
  {
   "cell_type": "code",
   "execution_count": null,
   "metadata": {
    "collapsed": false
   },
   "outputs": [],
   "source": [
    "plot_poulation_heatmap(population_data['exc'], 0, 1, 2, cmap= cm.Spectral, title=\"Firing Rate\", savefig=True)"
   ]
  },
  {
   "cell_type": "code",
   "execution_count": null,
   "metadata": {
    "collapsed": false
   },
   "outputs": [],
   "source": [
    "plot_poulation_heatmap(population_data['exc'], 0, 1, 3, cmap= cm.PuOr, title=\"Last Spike Time\", savefig=True)"
   ]
  }
 ],
 "metadata": {
  "kernelspec": {
   "display_name": "Python 2",
   "language": "python",
   "name": "python2"
  },
  "language_info": {
   "codemirror_mode": {
    "name": "ipython",
    "version": 2
   },
   "file_extension": ".py",
   "mimetype": "text/x-python",
   "name": "python",
   "nbconvert_exporter": "python",
   "pygments_lexer": "ipython2",
   "version": "2.7.13"
  }
 },
 "nbformat": 4,
 "nbformat_minor": 2
}
