{
 "cells": [
  {
   "cell_type": "code",
   "execution_count": null,
   "metadata": {
    "collapsed": false
   },
   "outputs": [],
   "source": [
    "import os\n",
    "from SpikeTrainUtils import SpikeTrainStats, SpikeTrainPlotter"
   ]
  },
  {
   "cell_type": "code",
   "execution_count": null,
   "metadata": {
    "collapsed": false
   },
   "outputs": [],
   "source": [
    "d = './results/'\n",
    "dirs = [os.path.join(d, o) for o in os.listdir(d) if os.path.isdir(os.path.join(d,o))]\n",
    "\n",
    "sorted_dirs = []\n",
    "for directory in dirs:\n",
    "    split_d = directory.split(' ')\n",
    "    sorted_dirs.append([split_d[1], split_d[3], directory])\n",
    "\n",
    "sorted_dirs = sorted(sorted_dirs, key = lambda x: (int(x[0]), int(x[1])))"
   ]
  },
  {
   "cell_type": "code",
   "execution_count": null,
   "metadata": {
    "collapsed": false
   },
   "outputs": [],
   "source": [
    "sts = SpikeTrainStats()\n",
    "\n",
    "results = []\n",
    "debug_cnt = 10\n",
    "cnt = 0\n",
    "for directory in sorted_dirs:\n",
    "\n",
    "    job_dir = os.listdir(directory[2])[-1]\n",
    "    sub_directory = os.path.join(directory[2], job_dir)\n",
    "\n",
    "    files = [os.path.join(sub_directory, o) for o in os.listdir(sub_directory) if os.path.isfile(os.path.join(sub_directory,o))]\n",
    "    config_res = []\n",
    "    for f in files:\n",
    "        fname,ext = os.path.splitext(f)\n",
    "        if ext != '.csv':\n",
    "            continue\n",
    "        fr, cvisi = sts.calculate(f)\n",
    "        config_res.append([f.split(' ')[10],{'firing_rate':fr, 'cv_isi':cvisi}])\n",
    "    results.append([directory,config_res])\n",
    "    print results[-1]\n",
    "    cnt += 1\n",
    "    if cnt == debug_cnt:\n",
    "        break\n",
    "    "
   ]
  },
  {
   "cell_type": "code",
   "execution_count": null,
   "metadata": {
    "collapsed": false
   },
   "outputs": [],
   "source": [
    "from IPython.display import HTML, display\n",
    "\n",
    "pop_types = ['exc', 'inh', 'ext']\n",
    "pop_labels = {'exc':'Excitatory', 'inh':'Inhibitory', 'ext':'Injection'}\n",
    "\n",
    "for pop_type in pop_types:\n",
    "    slim_data = []\n",
    "    for row in results:     \n",
    "        for i in range(len(row[1])):\n",
    "\n",
    "            if row[1][i][0] != pop_type:\n",
    "                continue\n",
    "            slim_data.append([row[0][0], row[0][1], row[1][i][1]['firing_rate'], row[1][i][1]['cv_isi']])\n",
    "    print (pop_labels[pop_type] + \" Population\")\n",
    "    table_head = '<table>'\n",
    "    table_header = '<tr><th>G Exc</th><th>G Inh</th><th>Firing Rate</th><th>CV ISI</th></tr>'\n",
    "    table_contents = '<tr>{}</tr>'.format('</tr><tr>'.join('<td>{}</td>'.format('</td><td>'.join(str(_) for _ in row)) for row in slim_data))\n",
    "    table_tail = '</table>'\n",
    "    html = table_head + table_header + table_contents + table_tail\n",
    "    display(HTML(html))"
   ]
  },
  {
   "cell_type": "code",
   "execution_count": null,
   "metadata": {
    "collapsed": true
   },
   "outputs": [],
   "source": []
  }
 ],
 "metadata": {
  "kernelspec": {
   "display_name": "Python 2",
   "language": "python",
   "name": "python2"
  },
  "language_info": {
   "codemirror_mode": {
    "name": "ipython",
    "version": 2
   },
   "file_extension": ".py",
   "mimetype": "text/x-python",
   "name": "python",
   "nbconvert_exporter": "python",
   "pygments_lexer": "ipython2",
   "version": "2.7.13"
  }
 },
 "nbformat": 4,
 "nbformat_minor": 2
}
